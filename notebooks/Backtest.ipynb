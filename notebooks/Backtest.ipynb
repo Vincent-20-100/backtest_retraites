{
  "cells": [
    {
      "cell_type": "markdown",
      "metadata": {
        "id": "17T_c6A25M4W"
      },
      "source": [
        "# **Étude comparative entre la capitalisation et la répartition pour le système de retraite français (1985-2025)**\n",
        "\n",
        "## **🔍 Objectif du projet**\n",
        "Ce projet vise à comparer les performances d’un **système de retraite par capitalisation** avec le **système actuel par répartition** en France.  \n",
        "L’objectif est de modéliser un **fonds souverain hypothétique**, où les cotisations des actifs seraient investies sur les marchés financiers, et d’analyser **les rendements et les pensions** qu’un tel système aurait pu fournir entre 1985 et 2025.\n",
        "\n",
        "---\n",
        "\n",
        "## **📈 Choix des indices**\n",
        "### **Pourquoi comparer le CAC40 et le S&P500 ?**\n",
        "Nous définissons **deux scénarios de référence** :\n",
        "1. **Le CAC40 : un scénario conservateur**  \n",
        "   - Il représente **l’économie française**, qui n’a pas bénéficié d’une capitalisation massive via des fonds de pension.\n",
        "   - Si un **fonds souverain français** avait été instauré dès 1985, la capitalisation du CAC40 aurait logiquement été renforcée.\n",
        "\n",
        "2. **Le S&P500 : un scénario optimiste**  \n",
        "   - Il est **déjà massivement soutenu par des fonds de pension américains**.\n",
        "   - Il permet **d’estimer ce que pourrait être un CAC40 dans un modèle capitalisé performant**.\n",
        "\n",
        "💡 **Pourquoi cette comparaison ?**  \n",
        "Cette approche permet d’avoir **une fourchette réaliste** entre un scénario prudent (**le CAC40**) et une projection optimiste (**le S&P500**), illustrant ce qu’un système capitalisé aurait pu générer en France.\n",
        "\n",
        "---\n",
        "\n",
        "### **🔗 Rôle des autres indices**\n",
        "- **Le WGBI (World Government Bond Index)** est utilisé comme **référence obligataire** pour la partie obligations des portefeuilles.\n",
        "\n",
        "---\n",
        "\n",
        "## **📊 Méthodologie**\n",
        "### **1️⃣ Collecte et prétraitement des données**\n",
        "- Récupération des historiques du **CAC40, S&P500 et WGBI**.\n",
        "- **Reconstruction des données manquantes (backfill)** pour garantir une continuité temporelle.\n",
        "- **Calcul des variations mensuels** pour assurer le backtest des diférents portefeuils.\n",
        "\n",
        "### **2️⃣ Simulation des allocations**\n",
        "Nous modélisons **4 portefeuilles types**, répartis de la manière suivante :\n",
        "- **50% actions / 50% obligations** (CAC40/WGBI et S&P500/WGBI).\n",
        "- **75% actions / 25% obligations** (CAC40/WGBI et S&P500/WGBI).\n",
        "\n",
        "**Hypothèse clé** : Les cotisations mensuelles sont **progressivement investies** dans ces portefeuilles (**DCA – Dollar Cost Averaging**).\n",
        "\n",
        " **Frais de gestion** : Un taux de 0,5% annuel de frais à été pris en compte, ce taux est un juste milieux entre les taux appliquées dans les différentes formes de fonds (souverain, ETF, PE et)\n",
        "\n",
        "### **3️⃣ Calcul des rendements et pensions**\n",
        "- **Estimation des rendements annualisés** des différentes allocations.\n",
        "- **Détermination du taux de prélèvement optimal** pour garantir une pension stable sur **25 ans**, en cohérence avec l’espérance de vie moyenne des retraités.\n",
        "- Ce taux permet de **maximiser les retraits** tout en assurant la viabilité du fonds.\n",
        "\n",
        "### **4️⃣ Prise en compte de la solidarité**\n",
        "- **Intégration des dispositifs de solidarité retraite** (ASPA, ASV) pour les bénéficiaires n’ayant pas cotisé pleinement.\n",
        "- **Ajustement du modèle** pour inclure ces coûts dans l’estimation des pensions viables.\n",
        "\n",
        "### **5️⃣ Analyse des résultats**\n",
        "- **Comparaison des pensions obtenues** avec celles du système actuel.\n",
        "- **Évaluation de l’impact des différentes allocations** et des rendements observés.\n",
        "- **Visualisation des performances** du fonds de retraite hypothétique.\n",
        "\n",
        "---\n"
      ]
    },
    {
      "cell_type": "code",
      "execution_count": null,
      "metadata": {},
      "outputs": [],
      "source": [
        "'''import os\n",
        "os.chdir(r\"C:\\Users\\Vincent\\Code\\Vincent-20-100\\backtest_retraites\")'''"
      ]
    },
    {
      "cell_type": "code",
      "execution_count": 38,
      "metadata": {},
      "outputs": [],
      "source": [
        "import os\n",
        "\n",
        "# Charger le chemin depuis le fichier texte\n",
        "with open(\".path_repo.txt\", \"r\") as f:\n",
        "    path_repo = f.read().strip()\n",
        "\n",
        "os.chdir(path_repo)"
      ]
    },
    {
      "cell_type": "code",
      "execution_count": 39,
      "metadata": {
        "colab": {
          "base_uri": "https://localhost:8080/"
        },
        "id": "QkXaNH8hzOOq",
        "outputId": "7d518a47-9dc8-4e4d-a23f-51b8436a2f71"
      },
      "outputs": [],
      "source": [
        "import pandas as pd\n",
        "import numpy as np\n",
        "import yfinance as yf\n",
        "import matplotlib.pyplot as plt\n",
        "import seaborn as sns\n",
        "\n",
        "# Import du dataset cleané et augmenté (backfill des valleurs manquantes)\n",
        "df = pd.read_csv(r\"data\\processed\\DataFrame_backfilled.csv\",  index_col='Date', parse_dates=['Date'])"
      ]
    },
    {
      "cell_type": "markdown",
      "metadata": {},
      "source": [
        "## 📌 Création des colonnes de variation\n",
        "\n",
        "Afin de pouvoir calculer la performance des portefeuilles dans les étapes suivantes, nous créons des colonnes représentant la variation mensuelle de chaque indice.  \n",
        "L’index du DataFrame étant basé sur des dates mensuelles, la variation est calculée par rapport au mois précédent pour chaque indice.\n",
        "\n",
        "🔹 Ces variations permettront ensuite de simuler l’effet des performances mensuelles sur un capital investi, en les appliquant successivement au fil du temps (logique de capitalisation)."
      ]
    },
    {
      "cell_type": "code",
      "execution_count": 40,
      "metadata": {},
      "outputs": [
        {
          "data": {
            "text/html": [
              "<div>\n",
              "<style scoped>\n",
              "    .dataframe tbody tr th:only-of-type {\n",
              "        vertical-align: middle;\n",
              "    }\n",
              "\n",
              "    .dataframe tbody tr th {\n",
              "        vertical-align: top;\n",
              "    }\n",
              "\n",
              "    .dataframe thead th {\n",
              "        text-align: right;\n",
              "    }\n",
              "</style>\n",
              "<table border=\"1\" class=\"dataframe\">\n",
              "  <thead>\n",
              "    <tr style=\"text-align: right;\">\n",
              "      <th></th>\n",
              "      <th>SP500_TR</th>\n",
              "      <th>CAC40_TR</th>\n",
              "      <th>WGBI_TR</th>\n",
              "      <th>SP500_var</th>\n",
              "      <th>CAC40_var</th>\n",
              "      <th>WGBI_var</th>\n",
              "    </tr>\n",
              "    <tr>\n",
              "      <th>Date</th>\n",
              "      <th></th>\n",
              "      <th></th>\n",
              "      <th></th>\n",
              "      <th></th>\n",
              "      <th></th>\n",
              "      <th></th>\n",
              "    </tr>\n",
              "  </thead>\n",
              "  <tbody>\n",
              "    <tr>\n",
              "      <th>1985-01-01</th>\n",
              "      <td>172.176132</td>\n",
              "      <td>692.288669</td>\n",
              "      <td>10000.000000</td>\n",
              "      <td>NaN</td>\n",
              "      <td>NaN</td>\n",
              "      <td>NaN</td>\n",
              "    </tr>\n",
              "    <tr>\n",
              "      <th>1985-02-01</th>\n",
              "      <td>180.194935</td>\n",
              "      <td>720.457778</td>\n",
              "      <td>10235.623791</td>\n",
              "      <td>0.046573</td>\n",
              "      <td>0.040690</td>\n",
              "      <td>0.023562</td>\n",
              "    </tr>\n",
              "    <tr>\n",
              "      <th>1985-03-01</th>\n",
              "      <td>181.992612</td>\n",
              "      <td>726.738050</td>\n",
              "      <td>9832.991278</td>\n",
              "      <td>0.009976</td>\n",
              "      <td>0.008717</td>\n",
              "      <td>-0.039336</td>\n",
              "    </tr>\n",
              "    <tr>\n",
              "      <th>1985-04-01</th>\n",
              "      <td>182.598183</td>\n",
              "      <td>728.870481</td>\n",
              "      <td>10019.526779</td>\n",
              "      <td>0.003327</td>\n",
              "      <td>0.002934</td>\n",
              "      <td>0.018970</td>\n",
              "    </tr>\n",
              "    <tr>\n",
              "      <th>1985-05-01</th>\n",
              "      <td>183.032920</td>\n",
              "      <td>730.405192</td>\n",
              "      <td>10250.878162</td>\n",
              "      <td>0.002381</td>\n",
              "      <td>0.002106</td>\n",
              "      <td>0.023090</td>\n",
              "    </tr>\n",
              "    <tr>\n",
              "      <th>...</th>\n",
              "      <td>...</td>\n",
              "      <td>...</td>\n",
              "      <td>...</td>\n",
              "      <td>...</td>\n",
              "      <td>...</td>\n",
              "      <td>...</td>\n",
              "    </tr>\n",
              "    <tr>\n",
              "      <th>2024-08-01</th>\n",
              "      <td>12086.490234</td>\n",
              "      <td>23179.092370</td>\n",
              "      <td>55630.313495</td>\n",
              "      <td>0.013064</td>\n",
              "      <td>-0.025147</td>\n",
              "      <td>0.000550</td>\n",
              "    </tr>\n",
              "    <tr>\n",
              "      <th>2024-09-01</th>\n",
              "      <td>12292.099609</td>\n",
              "      <td>23646.248645</td>\n",
              "      <td>56093.077188</td>\n",
              "      <td>0.017012</td>\n",
              "      <td>0.020154</td>\n",
              "      <td>0.008319</td>\n",
              "    </tr>\n",
              "    <tr>\n",
              "      <th>2024-10-01</th>\n",
              "      <td>12598.030273</td>\n",
              "      <td>23654.766305</td>\n",
              "      <td>55534.603307</td>\n",
              "      <td>0.024888</td>\n",
              "      <td>0.000360</td>\n",
              "      <td>-0.009956</td>\n",
              "    </tr>\n",
              "    <tr>\n",
              "      <th>2024-11-01</th>\n",
              "      <td>12533.190430</td>\n",
              "      <td>22857.802261</td>\n",
              "      <td>57289.947892</td>\n",
              "      <td>-0.005147</td>\n",
              "      <td>-0.033691</td>\n",
              "      <td>0.031608</td>\n",
              "    </tr>\n",
              "    <tr>\n",
              "      <th>2024-12-01</th>\n",
              "      <td>13245.660156</td>\n",
              "      <td>22211.844867</td>\n",
              "      <td>56892.306595</td>\n",
              "      <td>0.056847</td>\n",
              "      <td>-0.028260</td>\n",
              "      <td>-0.006941</td>\n",
              "    </tr>\n",
              "  </tbody>\n",
              "</table>\n",
              "<p>480 rows × 6 columns</p>\n",
              "</div>"
            ],
            "text/plain": [
              "                SP500_TR      CAC40_TR       WGBI_TR  SP500_var  CAC40_var  \\\n",
              "Date                                                                         \n",
              "1985-01-01    172.176132    692.288669  10000.000000        NaN        NaN   \n",
              "1985-02-01    180.194935    720.457778  10235.623791   0.046573   0.040690   \n",
              "1985-03-01    181.992612    726.738050   9832.991278   0.009976   0.008717   \n",
              "1985-04-01    182.598183    728.870481  10019.526779   0.003327   0.002934   \n",
              "1985-05-01    183.032920    730.405192  10250.878162   0.002381   0.002106   \n",
              "...                  ...           ...           ...        ...        ...   \n",
              "2024-08-01  12086.490234  23179.092370  55630.313495   0.013064  -0.025147   \n",
              "2024-09-01  12292.099609  23646.248645  56093.077188   0.017012   0.020154   \n",
              "2024-10-01  12598.030273  23654.766305  55534.603307   0.024888   0.000360   \n",
              "2024-11-01  12533.190430  22857.802261  57289.947892  -0.005147  -0.033691   \n",
              "2024-12-01  13245.660156  22211.844867  56892.306595   0.056847  -0.028260   \n",
              "\n",
              "            WGBI_var  \n",
              "Date                  \n",
              "1985-01-01       NaN  \n",
              "1985-02-01  0.023562  \n",
              "1985-03-01 -0.039336  \n",
              "1985-04-01  0.018970  \n",
              "1985-05-01  0.023090  \n",
              "...              ...  \n",
              "2024-08-01  0.000550  \n",
              "2024-09-01  0.008319  \n",
              "2024-10-01 -0.009956  \n",
              "2024-11-01  0.031608  \n",
              "2024-12-01 -0.006941  \n",
              "\n",
              "[480 rows x 6 columns]"
            ]
          },
          "execution_count": 40,
          "metadata": {},
          "output_type": "execute_result"
        }
      ],
      "source": [
        "df['SP500_var'] = df['SP500_TR'].pct_change()\n",
        "df['CAC40_var'] = df['CAC40_TR'].pct_change()\n",
        "df['WGBI_var'] = df['WGBI_TR'].pct_change()\n",
        "df"
      ]
    },
    {
      "cell_type": "markdown",
      "metadata": {},
      "source": [
        "## 📌 Création du DataFrame des salaires et cotisations mensuels\n",
        "\n",
        "Les salaires médians de 1985 et 2025 sont extraits de l’INSEE. \\\n",
        "Entre ces deux dates, les salaires sont interpolés annuellement à l’aide d’un taux de croissance constant.  \n",
        "Même principe pour les taux de cotisation. \\\n",
        "Cela permet de simuler l’évolution mensuelle des cotisations d’un salarié moyen (ou plus exactement salarié médian)."
      ]
    },
    {
      "cell_type": "code",
      "execution_count": 41,
      "metadata": {
        "colab": {
          "base_uri": "https://localhost:8080/"
        },
        "id": "HFb_4XhoB1Ao",
        "outputId": "4fa965bb-8b15-40bc-ef2e-c18e4bcd1b3f"
      },
      "outputs": [
        {
          "name": "stdout",
          "output_type": "stream",
          "text": [
            "          Date  salaire_mensuel  taux_cotisation  cotisations\n",
            "0   1985-01-01           1156.0             15.0        173.4\n",
            "1   1985-02-01           1156.0             15.0        173.4\n",
            "2   1985-03-01           1156.0             15.0        173.4\n",
            "3   1985-04-01           1156.0             15.0        173.4\n",
            "4   1985-05-01           1156.0             15.0        173.4\n",
            "..         ...              ...              ...          ...\n",
            "475 2024-08-01           2735.0             24.0        656.4\n",
            "476 2024-09-01           2735.0             24.0        656.4\n",
            "477 2024-10-01           2735.0             24.0        656.4\n",
            "478 2024-11-01           2735.0             24.0        656.4\n",
            "479 2024-12-01           2735.0             24.0        656.4\n",
            "\n",
            "[480 rows x 4 columns]\n"
          ]
        }
      ],
      "source": [
        "# Définir les salaires et les taux\n",
        "salaire_1985 = 1156  # Salaire médian de 1985\n",
        "salaire_2025 = 2735  # Salaire médian de 2025\n",
        "taux_1985 = 15.0  # Taux de cotisation en 1985\n",
        "taux_2025 = 24.0  # Taux de cotisation en 2025\n",
        "\n",
        "# Calcul du taux d'augmentation annuel pour le salaire\n",
        "start_year = df.index.year.min()  # Récupérer l'année de début depuis l'index de ton DataFrame\n",
        "end_year = df.index.year.max()  # Récupérer l'année de fin depuis l'index de ton DataFrame\n",
        "\n",
        "# Calcul du taux d'augmentation annuel du salaire\n",
        "taux_augmentation_annuel_salaire = (salaire_2025 / salaire_1985) ** (1 / (end_year - start_year)) - 1\n",
        "\n",
        "# Calcul du taux d'augmentation annuel du taux de cotisation\n",
        "taux_augmentation_annuel_cotisation = (taux_2025 / taux_1985) ** (1 / (end_year - start_year)) - 1\n",
        "\n",
        "# Création des dates pour chaque année dans la période\n",
        "dates = pd.date_range(start=df.index.min(), end=df.index.max(), freq='MS')\n",
        "\n",
        "# Calcul du salaire mensuel pour chaque année\n",
        "salaires = [salaire_1985 * (1 + taux_augmentation_annuel_salaire) ** (year - start_year) for year in range(start_year, end_year + 1)]\n",
        "\n",
        "# Calcul du taux de cotisation pour chaque année\n",
        "taux_cotisations = [taux_1985 * (1 + taux_augmentation_annuel_cotisation) ** (year - start_year) for year in range(start_year, end_year + 1)]\n",
        "\n",
        "# Répéter les salaires et taux de cotisation pour chaque mois\n",
        "salaire_mensuel = np.repeat(salaires, 12)\n",
        "taux_cotisation_annuel = np.repeat(taux_cotisations, 12)\n",
        "\n",
        "# Calcul des cotisations mensuelles\n",
        "cotisations = salaire_mensuel * (taux_cotisation_annuel / 100)  # Conversion du taux de cotisation en pourcentage\n",
        "\n",
        "# Création du DataFrame\n",
        "salaire_df = pd.DataFrame({'Date': dates, 'salaire_mensuel': salaire_mensuel, 'taux_cotisation': taux_cotisation_annuel, 'cotisations': cotisations})\n",
        "\n",
        "# Affichage des premières lignes pour vérification\n",
        "print(salaire_df)"
      ]
    },
    {
      "cell_type": "code",
      "execution_count": 42,
      "metadata": {
        "colab": {
          "base_uri": "https://localhost:8080/"
        },
        "id": "iFkDsjDq26mG",
        "outputId": "4900229e-cc0b-4388-dfa5-6ab895e9e8df"
      },
      "outputs": [
        {
          "data": {
            "text/html": [
              "<div>\n",
              "<style scoped>\n",
              "    .dataframe tbody tr th:only-of-type {\n",
              "        vertical-align: middle;\n",
              "    }\n",
              "\n",
              "    .dataframe tbody tr th {\n",
              "        vertical-align: top;\n",
              "    }\n",
              "\n",
              "    .dataframe thead th {\n",
              "        text-align: right;\n",
              "    }\n",
              "</style>\n",
              "<table border=\"1\" class=\"dataframe\">\n",
              "  <thead>\n",
              "    <tr style=\"text-align: right;\">\n",
              "      <th></th>\n",
              "      <th>salaire_mensuel</th>\n",
              "      <th>taux_cotisation</th>\n",
              "      <th>cotisations</th>\n",
              "      <th>SP500_var</th>\n",
              "      <th>CAC40_var</th>\n",
              "      <th>WGBI_var</th>\n",
              "    </tr>\n",
              "    <tr>\n",
              "      <th>Date</th>\n",
              "      <th></th>\n",
              "      <th></th>\n",
              "      <th></th>\n",
              "      <th></th>\n",
              "      <th></th>\n",
              "      <th></th>\n",
              "    </tr>\n",
              "  </thead>\n",
              "  <tbody>\n",
              "    <tr>\n",
              "      <th>1985-01-01</th>\n",
              "      <td>1156.0</td>\n",
              "      <td>15.0</td>\n",
              "      <td>173.4</td>\n",
              "      <td>NaN</td>\n",
              "      <td>NaN</td>\n",
              "      <td>NaN</td>\n",
              "    </tr>\n",
              "    <tr>\n",
              "      <th>1985-02-01</th>\n",
              "      <td>1156.0</td>\n",
              "      <td>15.0</td>\n",
              "      <td>173.4</td>\n",
              "      <td>0.046573</td>\n",
              "      <td>0.040690</td>\n",
              "      <td>0.023562</td>\n",
              "    </tr>\n",
              "    <tr>\n",
              "      <th>1985-03-01</th>\n",
              "      <td>1156.0</td>\n",
              "      <td>15.0</td>\n",
              "      <td>173.4</td>\n",
              "      <td>0.009976</td>\n",
              "      <td>0.008717</td>\n",
              "      <td>-0.039336</td>\n",
              "    </tr>\n",
              "    <tr>\n",
              "      <th>1985-04-01</th>\n",
              "      <td>1156.0</td>\n",
              "      <td>15.0</td>\n",
              "      <td>173.4</td>\n",
              "      <td>0.003327</td>\n",
              "      <td>0.002934</td>\n",
              "      <td>0.018970</td>\n",
              "    </tr>\n",
              "    <tr>\n",
              "      <th>1985-05-01</th>\n",
              "      <td>1156.0</td>\n",
              "      <td>15.0</td>\n",
              "      <td>173.4</td>\n",
              "      <td>0.002381</td>\n",
              "      <td>0.002106</td>\n",
              "      <td>0.023090</td>\n",
              "    </tr>\n",
              "  </tbody>\n",
              "</table>\n",
              "</div>"
            ],
            "text/plain": [
              "            salaire_mensuel  taux_cotisation  cotisations  SP500_var  \\\n",
              "Date                                                                   \n",
              "1985-01-01           1156.0             15.0        173.4        NaN   \n",
              "1985-02-01           1156.0             15.0        173.4   0.046573   \n",
              "1985-03-01           1156.0             15.0        173.4   0.009976   \n",
              "1985-04-01           1156.0             15.0        173.4   0.003327   \n",
              "1985-05-01           1156.0             15.0        173.4   0.002381   \n",
              "\n",
              "            CAC40_var  WGBI_var  \n",
              "Date                             \n",
              "1985-01-01        NaN       NaN  \n",
              "1985-02-01   0.040690  0.023562  \n",
              "1985-03-01   0.008717 -0.039336  \n",
              "1985-04-01   0.002934  0.018970  \n",
              "1985-05-01   0.002106  0.023090  "
            ]
          },
          "execution_count": 42,
          "metadata": {},
          "output_type": "execute_result"
        }
      ],
      "source": [
        "# Fusionner les données de salaire avec les indices boursiers sur la date\n",
        "df_ = salaire_df.merge(df[[\"SP500_var\",\"CAC40_var\",\"WGBI_var\"]], on='Date', how='left')\n",
        "df_.set_index(\"Date\", inplace=True)\n",
        "# Vérification\n",
        "df_.head()"
      ]
    },
    {
      "cell_type": "markdown",
      "metadata": {},
      "source": [
        "## 📌 Simulation de la capitalisation\n",
        "\n",
        "L’objectif de cette section est de modéliser ce qu’aurait pu générer un système de retraite par capitalisation, en supposant que les cotisations mensuelles n’avaient pas été immédiatement redistribuées, mais investies sur les marchés financiers.\n",
        "\n",
        "### Approche en DCA (Dollar Cost Averaging) 🏦\n",
        "\n",
        "Chaque mois, les cotisations sont investies progressivement dans un portefeuille financier au lieu d’être immédiatement reversées aux retraités.\n",
        "\n",
        "### Mécanisme d’accumulation 💰\n",
        "\n",
        "Chaque mois, la valeur du capital est mise à jour en appliquant la performance des indices correspondant à l’allocation choisie.  \n",
        "Les cotisations suivantes s’ajoutent au capital déjà constitué, créant un effet de capitalisation renforcé par les intérêts composés."
      ]
    },
    {
      "cell_type": "code",
      "execution_count": 43,
      "metadata": {},
      "outputs": [
        {
          "name": "stdout",
          "output_type": "stream",
          "text": [
            "              CAC40_50/50   SNP500_50/50    CAC40_75/25  SNP500_75/25\n",
            "Date                                                                 \n",
            "1985-01-01     173.400000     173.400000     173.400000  1.734000e+02\n",
            "1985-02-01     352.298582     352.808675     353.041057  3.538062e+02\n",
            "1985-03-01     520.158552     520.882757     525.130561  5.262270e+02\n",
            "1985-04-01     699.039252     699.873493     701.958385  7.032172e+02\n",
            "1985-05-01     880.955026     881.895746     880.227168  8.816398e+02\n",
            "...                   ...            ...            ...           ...\n",
            "2024-08-01  486505.729242  651282.684620  604967.359739  9.721647e+05\n",
            "2024-09-01  493885.962470  659916.850345  615774.858068  9.868422e+05\n",
            "2024-10-01  491967.384890  665225.917643  614808.934010  1.003053e+06\n",
            "2024-11-01  491906.795392  674407.144408  604532.621589  1.007346e+06\n",
            "2024-12-01  483700.976313  691611.590857  591075.727255  1.048784e+06\n",
            "\n",
            "[480 rows x 4 columns]\n"
          ]
        }
      ],
      "source": [
        "# Paramètre : frais de gestion annuels\n",
        "frais_annuels = 0.005  # 0.5% annuel\n",
        "frais_mensuels = (1 + frais_annuels) ** (1/12) - 1\n",
        "\n",
        "# Initialisation des colonnes\n",
        "df_[\"CAC40_50/50\"] = df_[\"cotisations\"]\n",
        "df_[\"SNP500_50/50\"] = df_[\"cotisations\"]\n",
        "df_[\"CAC40_75/25\"] = df_[\"cotisations\"]\n",
        "df_[\"SNP500_75/25\"] = df_[\"cotisations\"]\n",
        "\n",
        "# Boucle mensuelle avec frais de gestion\n",
        "for i in range(1, len(df_)):\n",
        "    # CAC40 50/50\n",
        "    prev_cac = df_.iloc[i - 1][\"CAC40_50/50\"]\n",
        "    var = 0.5 * df_.iloc[i][\"CAC40_var\"] + 0.5 * df_.iloc[i][\"WGBI_var\"]\n",
        "    df_.iloc[i, df_.columns.get_loc(\"CAC40_50/50\")] = prev_cac * (1 + var - frais_mensuels) + df_.iloc[i][\"cotisations\"]\n",
        "\n",
        "    # S&P500 50/50\n",
        "    prev_snp = df_.iloc[i - 1][\"SNP500_50/50\"]\n",
        "    var = 0.5 * df_.iloc[i][\"SP500_var\"] + 0.5 * df_.iloc[i][\"WGBI_var\"]\n",
        "    df_.iloc[i, df_.columns.get_loc(\"SNP500_50/50\")] = prev_snp * (1 + var - frais_mensuels) + df_.iloc[i][\"cotisations\"]\n",
        "\n",
        "    # CAC40 75/25\n",
        "    prev_cac = df_.iloc[i - 1][\"CAC40_75/25\"]\n",
        "    var = 0.75 * df_.iloc[i][\"CAC40_var\"] + 0.25 * df_.iloc[i][\"WGBI_var\"]\n",
        "    df_.iloc[i, df_.columns.get_loc(\"CAC40_75/25\")] = prev_cac * (1 + var - frais_mensuels) + df_.iloc[i][\"cotisations\"]\n",
        "\n",
        "    # S&P500 75/25\n",
        "    prev_snp = df_.iloc[i - 1][\"SNP500_75/25\"]\n",
        "    var = 0.75 * df_.iloc[i][\"SP500_var\"] + 0.25 * df_.iloc[i][\"WGBI_var\"]\n",
        "    df_.iloc[i, df_.columns.get_loc(\"SNP500_75/25\")] = prev_snp * (1 + var - frais_mensuels) + df_.iloc[i][\"cotisations\"]\n",
        "\n",
        "# Vérification\n",
        "print(df_[[\"CAC40_50/50\", \"SNP500_50/50\", \"CAC40_75/25\", \"SNP500_75/25\"]])\n"
      ]
    },
    {
      "cell_type": "code",
      "execution_count": 44,
      "metadata": {
        "colab": {
          "base_uri": "https://localhost:8080/",
          "height": 545
        },
        "id": "PjgSLgCz8pYN",
        "outputId": "4bf033e0-3e03-4a52-f130-4cefaae8f749"
      },
      "outputs": [
        {
          "data": {
            "image/png": "[encoded data removed]",
            "text/plain": [
              "<Figure size 1200x600 with 1 Axes>"
            ]
          },
          "metadata": {},
          "output_type": "display_data"
        }
      ],
      "source": [
        "plt.figure(figsize=(12,6))\n",
        "plt.plot(df_.index, df_[\"CAC40_50/50\"], label=\"CAC40 50/50\", color=\"green\")\n",
        "plt.plot(df_.index, df_[\"CAC40_75/25\"], label=\"CAC40 75/25\", color=\"black\")\n",
        "plt.plot(df_.index, df_[\"SNP500_50/50\"], label=\"S&P500 50/50\", color=\"blue\")\n",
        "plt.plot(df_.index, df_[\"SNP500_75/25\"], label=\"S&P500 75/25\", color=\"red\")\n",
        "\n",
        "plt.legend()\n",
        "plt.title(\"Évolution des allocations CAC et S&P\")\n",
        "plt.show()"
      ]
    },
    {
      "cell_type": "markdown",
      "metadata": {},
      "source": [
        "## 📌 Résultat de la capitalisation :\n",
        "\n",
        "À partir du DataFrame des simulations, nous extrayons et stockons dans des variables clés les montants finaux de capitalisation.  \n",
        "Ces montants correspondent à la somme totale des cotisations versées, ainsi qu’à leur valorisation au fil du temps grâce aux rendements des marchés financiers.\n",
        "\n",
        "🔹 Nous calculons ensuite des moyennes par type d’allocation (50/50, 75/25, etc.), ainsi qu’une moyenne générale tous portefeuilles confondus. \\\n",
        "\n",
        "Ces variables serviront de base aux comparaisons avec le système actuel par répartition.\n"
      ]
    },
    {
      "cell_type": "code",
      "execution_count": 45,
      "metadata": {
        "colab": {
          "base_uri": "https://localhost:8080/"
        },
        "id": "bBp3eBWpDozn",
        "outputId": "f9467d9e-f0af-4cf3-ea4b-ee2d82021f0b"
      },
      "outputs": [
        {
          "name": "stdout",
          "output_type": "stream",
          "text": [
            "CAC40 50/50 final: 484 k€\n",
            "CAC40 75/25 final: 591 k€\n",
            "S&P500 50/50 final: 692 k€\n",
            "S&P500 75/25 final: 1049 k€\n",
            "\n",
            "Mean 50/50 final: 588 k€\n",
            "Mean 75/25 final: 820 k€\n",
            "\n",
            "Global mean final: 704 k€\n"
          ]
        }
      ],
      "source": [
        "# Récupérer la dernière valeur de chaque allocation\n",
        "cac_50_50_final = df_[\"CAC40_50/50\"].iloc[-1]\n",
        "cac_75_25_final = df_[\"CAC40_75/25\"].iloc[-1]\n",
        "snp_50_50_final = df_[\"SNP500_50/50\"].iloc[-1]\n",
        "snp_75_25_final = df_[\"SNP500_75/25\"].iloc[-1]\n",
        "\n",
        "# Afficher les résultats\n",
        "print(f\"CAC40 50/50 final: {cac_50_50_final/1000:.0f} k€\")\n",
        "print(f\"CAC40 75/25 final: {cac_75_25_final/1000:.0f} k€\")\n",
        "print(f\"S&P500 50/50 final: {snp_50_50_final/1000:.0f} k€\")\n",
        "print(f\"S&P500 75/25 final: {snp_75_25_final/1000:.0f} k€\")\n",
        "print()\n",
        "\n",
        "mean_50_50 = np.mean([cac_50_50_final, snp_50_50_final])\n",
        "mean_75_75 = np.mean([cac_75_25_final, snp_75_25_final])\n",
        "print(f\"Mean 50/50 final: {mean_50_50/1000:.0f} k€\")\n",
        "print(f\"Mean 75/25 final: {mean_75_75/1000:.0f} k€\")\n",
        "print()\n",
        "\n",
        "global_mean = np.mean([mean_50_50, mean_75_75])\n",
        "print(f\"Global mean final: {global_mean/1000:.0f} k€\")\n"
      ]
    },
    {
      "cell_type": "code",
      "execution_count": 46,
      "metadata": {
        "id": "knpY99YmGStl"
      },
      "outputs": [],
      "source": [
        "# Export du DataFrame\n",
        "df_.to_csv(r\"data\\final\\backtest_retraites_capitalisation.csv\", index=True, encoding=\"utf-8\")"
      ]
    },
    {
      "cell_type": "markdown",
      "metadata": {},
      "source": [
        "## 📌 Normalisation des indices\n",
        "\n",
        "Nous construisons ici des indices normalisés pour comparer visuellement la performance relative des différents actifs (CAC40, S&P500, WGBI) sur la période étudiée.\n",
        "\n",
        "🔹 Chaque indice est initialisé à une base 100 (ici représentée par 1.0) au début de la période.  \n",
        "🔹 À chaque mois, la valeur précédente est multipliée par (1 + variation mensuelle), ce qui simule la croissance d’un capital fictif investi dans cet indice à partir de 1985.\n",
        "\n",
        "Ce procédé permet de visualiser l’évolution comparée des indices sur une même échelle, indépendamment de leur valeur nominale initiale."
      ]
    },
    {
      "cell_type": "code",
      "execution_count": 47,
      "metadata": {},
      "outputs": [],
      "source": [
        "# Initialisation à 1 pour chaque colonne normalisée\n",
        "df_['SP500_norm'] = 1.0\n",
        "df_['CAC40_norm'] = 1.0\n",
        "df_['WGBI_norm'] = 1.0\n",
        "\n",
        "# Application des variations cumulées mois par mois\n",
        "for i in range(1, len(df_)):\n",
        "    df_.iloc[i, df_.columns.get_loc('SP500_norm')] = df_.iloc[i - 1, df_.columns.get_loc('SP500_norm')] * (\n",
        "        1 + df_.iloc[i, df_.columns.get_loc('SP500_var')])\n",
        "    df_.iloc[i, df_.columns.get_loc('CAC40_norm')] = df_.iloc[i - 1, df_.columns.get_loc('CAC40_norm')] * (\n",
        "        1 + df_.iloc[i, df_.columns.get_loc('CAC40_var')])\n",
        "    df_.iloc[i, df_.columns.get_loc('WGBI_norm')] = df_.iloc[i - 1, df_.columns.get_loc('WGBI_norm')] * (\n",
        "        1 + df_.iloc[i, df_.columns.get_loc('WGBI_var')])"
      ]
    },
    {
      "cell_type": "markdown",
      "metadata": {},
      "source": [
        "## 📌 Performance annualisée de nos portefeuilles\n",
        "\n",
        "Nous calculons le rendement annuel composé pour chaque portefeuille (50/50 ou 75/25 entre actions et obligations).  \n",
        "Cela permet de quantifier la performance sur 40 ans et de comparer les stratégies."
      ]
    },
    {
      "cell_type": "code",
      "execution_count": 48,
      "metadata": {
        "colab": {
          "base_uri": "https://localhost:8080/"
        },
        "id": "2TQQPyVWPf1H",
        "outputId": "08d4b28d-f4cb-432c-80b9-8dc2f89e3291"
      },
      "outputs": [
        {
          "name": "stdout",
          "output_type": "stream",
          "text": [
            "CAC40 50/50 annualisé : 7.62%\n",
            "CAC40 75/25 annualisé : 8.43%\n",
            "S&P500 50/50 annualisé : 9.75%\n",
            "S&P500 75/25 annualisé : 10.74%\n"
          ]
        }
      ],
      "source": [
        "# Nombre d'années simulées\n",
        "years = len(df_) / 12  # = 40 ans\n",
        "\n",
        "# Calcul des rendements annualisés pour chaque portefeuille simulé\n",
        "cac40_50_50_rdt = (((df_[\"CAC40_norm\"].iloc[-1] / df_[\"CAC40_norm\"].iloc[0]) * 0.5 +\n",
        "                    (df_[\"WGBI_norm\"].iloc[-1] / df_[\"WGBI_norm\"].iloc[0]) * 0.5) ** (1 / years)) - 1\n",
        "cac40_75_25_rdt = (((df_[\"CAC40_norm\"].iloc[-1] / df_[\"CAC40_norm\"].iloc[0]) * 0.75 +\n",
        "                    (df_[\"WGBI_norm\"].iloc[-1] / df_[\"WGBI_norm\"].iloc[0]) * 0.25) ** (1 / years)) - 1\n",
        "snp500_50_50_rdt = (((df_[\"SP500_norm\"].iloc[-1] / df_[\"SP500_norm\"].iloc[0]) * 0.5 +\n",
        "                     (df_[\"WGBI_norm\"].iloc[-1] / df_[\"WGBI_norm\"].iloc[0]) * 0.5) ** (1 / years)) - 1\n",
        "snp500_75_25_rdt = (((df_[\"SP500_norm\"].iloc[-1] / df_[\"SP500_norm\"].iloc[0]) * 0.75 +\n",
        "                     (df_[\"WGBI_norm\"].iloc[-1] / df_[\"WGBI_norm\"].iloc[0]) * 0.25) ** (1 / years)) - 1\n",
        "\n",
        "\n",
        "# Affichage\n",
        "print(f\"CAC40 50/50 annualisé : {cac40_50_50_rdt * 100:.2f}%\")\n",
        "print(f\"CAC40 75/25 annualisé : {cac40_75_25_rdt * 100:.2f}%\")\n",
        "print(f\"S&P500 50/50 annualisé : {snp500_50_50_rdt * 100:.2f}%\")\n",
        "print(f\"S&P500 75/25 annualisé : {snp500_75_25_rdt * 100:.2f}%\")\n"
      ]
    },
    {
      "cell_type": "markdown",
      "metadata": {},
      "source": [
        "## 📌 Calcul du taux de retrait maximum\n",
        "\n",
        "🔹 Il ne serait pas cohérent de comparer une retraite par répartition avec une retraite capitalisée fondée sur la simple règle des 4%, qui vise à préserver le capital.  \n",
        "Dans un modèle de fonds souverain, l'objectif est d'épuiser progressivement le capital sur la durée de la retraite.  \n",
        "Il est donc nécessaire de calculer un taux de retrait \"optimal\", maximisant les pensions tout en assurant une viabilité sur 25 ans.\\\n",
        "La durée de vie moyenne des retraités en France en 2024 est de 26,1 ans pour les femmes, et 23,3 ans pour les hommes, soit 24,7 en moyenne.\n",
        "🔹 Par simplicité nous choisison le taux de retrais le plus faible (celui du sénario le plus conservateur), si on applique ce taux aux autres sénarios le montant sera donc surévaluer, mais nous pourrons simplement soustraire le résultat du taux de retrait le plus faible appliquer à son sénario aux autres pour obtenir la pension exacte."
      ]
    },
    {
      "cell_type": "markdown",
      "metadata": {},
      "source": [
        "## 📌 Calcul du taux de retrait maximum\n",
        "\n",
        "🔹 Il ne serait pas pertinent de comparer une retraite par répartition avec une retraite capitalisée en appliquant la simple règle des 4 %, conçue pour préserver le capital à vie.  \n",
        "Dans une logique de fonds souverain, l’objectif est au contraire d’utiliser le capital accumulé pour financer les pensions tout au long de la retraite, en l’épuisant progressivement.\n",
        "\n",
        "🎯 L’objectif est donc de déterminer un **taux de retrait optimal**, c’est-à-dire le pourcentage du capital qu’un retraité peut percevoir chaque année, tout en s’assurant que celui-ci reste suffisant pendant toute la durée de la retraite.\n",
        "\n",
        "📅 En 2024, la durée de vie moyenne à la retraite en France est estimée à :\n",
        "- 26,1 ans pour les femmes,\n",
        "- 23,3 ans pour les hommes,  \n",
        "➡️ Soit une moyenne de **24,7 ans**."
      ]
    },
    {
      "cell_type": "code",
      "execution_count": 49,
      "metadata": {
        "colab": {
          "base_uri": "https://localhost:8080/"
        },
        "id": "VJ_GkWYZEHmH",
        "outputId": "d03af269-b1e2-4582-a3ee-92cee036e6c9"
      },
      "outputs": [
        {
          "name": "stdout",
          "output_type": "stream",
          "text": [
            "CAC40 50/50 Safe withdrawal : 9.07%\n",
            "CAC40 75/25 Safe withdrawal : 9.72%\n",
            "S&P500 50/50 Safe withdrawal : 10.81%\n",
            "S&P500 75/25 Safe withdrawal : 11.65%\n",
            "\n",
            "Taux de prélèvement sélectionné : 9.07%\n"
          ]
        }
      ],
      "source": [
        "withdrawal_years = 25\n",
        "\n",
        "def safe_withdrawal_rate(annual_return, years):\n",
        "    return annual_return / (1 - (1 + annual_return) ** -years)\n",
        "\n",
        "cac40_50_50_swr = safe_withdrawal_rate(cac40_50_50_rdt, withdrawal_years)\n",
        "cac40_75_25_swr = safe_withdrawal_rate(cac40_75_25_rdt, withdrawal_years)\n",
        "snp500_50_50_swr = safe_withdrawal_rate(snp500_50_50_rdt, withdrawal_years)\n",
        "snp500_75_25_swr = safe_withdrawal_rate(snp500_75_25_rdt, withdrawal_years)\n",
        "\n",
        "print(f\"CAC40 50/50 Safe withdrawal : {cac40_50_50_swr:.2%}\")\n",
        "print(f\"CAC40 75/25 Safe withdrawal : {cac40_75_25_swr:.2%}\")\n",
        "print(f\"S&P500 50/50 Safe withdrawal : {snp500_50_50_swr:.2%}\")\n",
        "print(f\"S&P500 75/25 Safe withdrawal : {snp500_75_25_swr:.2%}\")\n",
        "\n",
        "# On sélectionne le pourcentage le plus prudent (le plus faible) et on l'arrondit à 7%\n",
        "withdrawal_rate_selected = min(cac40_50_50_swr, cac40_75_25_swr, snp500_50_50_swr, snp500_75_25_swr)\n",
        "print()\n",
        "print(f\"Taux de prélèvement sélectionné : {withdrawal_rate_selected:.2%}\")\n"
      ]
    },
    {
      "cell_type": "markdown",
      "metadata": {
        "id": "iOfpLHqaZ_Sf"
      },
      "source": [
        "## 📌 Retraite moyenne et retraite médiane en France\n",
        "\n",
        "Selon le rapport annuel de la **DREES** (Direction de la Recherche, des Études, de l’Évaluation et des Statistiques)\\[1\\], \\\n",
        "la **pension moyenne brute de droit direct**, incluant la majoration pour trois enfants ou plus, \\\n",
        "s’élevait à **1 626 € bruts mensuels** en décembre 2022, pour les nouveaux retraités résidant en France.\n",
        "\n",
        "🔹 Ce montant servira de **référence comparative** tout au long de l’étude, afin d’évaluer la performance des pensions issues d’un système capitalisé simulé.\n",
        "\n",
        "\\[1\\] *DREES, Les retraités et les retraites – édition 2023.*\n"
      ]
    },
    {
      "cell_type": "code",
      "execution_count": 50,
      "metadata": {
        "colab": {
          "base_uri": "https://localhost:8080/"
        },
        "id": "KdWVVN1LTCOP",
        "outputId": "10b7de7b-7f58-4477-fbf1-64efcf0d4d6a"
      },
      "outputs": [
        {
          "name": "stdout",
          "output_type": "stream",
          "text": [
            "Pension mensuelle pour l'allocation CAC 40 / Wordl Bonds 50/50 : 3655€\n",
            "Pension mensuelle pour l'allocation CAC 40 / Wordl Bonds 75/20 : 4466€\n",
            "Pension mensuelle pour l'allocation S&P 500 / Wordl Bonds 50/50 : 5226€\n",
            "Pension mensuelle pour l'allocation S&P 500 / Wordl Bonds 75/75 : 7925€\n"
          ]
        }
      ],
      "source": [
        "# Montant de la pension retraite brute médiane en France en 2022 :\n",
        "retraite_actuelle = 1626\n",
        "\n",
        "# Calcul du montant des cotisations\n",
        "cac_50_50_pension = cac_50_50_final * withdrawal_rate_selected / 12\n",
        "cac_75_25_pension = cac_75_25_final * withdrawal_rate_selected / 12\n",
        "snp_50_50_pension = snp_50_50_final * withdrawal_rate_selected / 12\n",
        "snp_75_25_pension = snp_75_25_final * withdrawal_rate_selected / 12\n",
        "\n",
        "print(f\"Pension mensuelle pour l'allocation CAC 40 / Wordl Bonds 50/50 : {int(cac_50_50_pension)}€\")\n",
        "print(f\"Pension mensuelle pour l'allocation CAC 40 / Wordl Bonds 75/20 : {int(cac_75_25_pension)}€\")\n",
        "print(f\"Pension mensuelle pour l'allocation S&P 500 / Wordl Bonds 50/50 : {int(snp_50_50_pension)}€\")\n",
        "print(f\"Pension mensuelle pour l'allocation S&P 500 / Wordl Bonds 75/75 : {int(snp_75_25_pension)}€\")"
      ]
    },
    {
      "cell_type": "markdown",
      "metadata": {
        "id": "8Z1P9CMqidRo"
      },
      "source": [
        "## 📌 Intégration des prestations de solidarité\n",
        "\n",
        "Les estimations de pensions mensuelles calculées jusqu'ici **n’incluent pas** les dispositifs de solidarité comme l’**ASPA** (Allocation de Solidarité aux Personnes Âgées) et l’**ASV** (Allocation Supplémentaire du Minimum Vieillesse), versés aux retraités ayant peu ou pas cotisé.\n",
        "\n",
        "🔹 Pour évaluer la viabilité d’un système capitalisé, il est important d’estimer le **coût global de ces prestations**, afin de simuler leur prise en charge par un mécanisme solidaire intégré à la capitalisation.\n",
        "\n",
        "### 📊 Données clés :\n",
        "\n",
        "- **801 000 bénéficiaires** du minimum vieillesse fin 2023  \n",
        "  - Dont **594 000** pour l’ASPA  \n",
        "  - Et **117 000** pour l’ASV  \n",
        "- **Montants moyens mensuels** en 2022 :  \n",
        "  - **495 € pour l’ASPA**  \n",
        "  - **440 € pour l’ASV**  \n",
        "- **Nombre total de retraités** en France : environ **17 millions**  \n",
        "  - Dont **15,3 millions** affiliés au **régime général**\n",
        "  \n",
        "### 📈 Hypothèse d’intégration au modèle :\n",
        "\n",
        "En l’absence de données individuelles précises, nous estimons un coût global basé sur l’hypothèse que tous les bénéficiaires actuels n’auraient **aucun capital accumulé** dans un système par capitalisation.  \n",
        "Or, en réalité, une **part importante de ces retraités a probablement cotisé partiellement** au cours de leur carrière, ce qui signifie qu’ils auraient accumulé un capital partiel.  \n",
        "\n",
        "➡️ Notre estimation constitue donc une **surestimation prudente** du coût réel de la solidarité dans un modèle capitalisé. Elle permet néanmoins d’évaluer un **ordre de grandeur** réaliste et d’envisager l’inclusion d’un **filet de sécurité minimal**, sans remettre en cause l’équilibre du système."
      ]
    },
    {
      "cell_type": "code",
      "execution_count": 51,
      "metadata": {
        "colab": {
          "base_uri": "https://localhost:8080/"
        },
        "id": "VphLGqyteVnT",
        "outputId": "96d57620-bade-4aad-f9ef-987c3f4ab860"
      },
      "outputs": [
        {
          "name": "stdout",
          "output_type": "stream",
          "text": [
            "Montant des solidaritées retraites en 2023 environ = 4 Milliards\n",
            "Montant total versé aux retraites en 2023 environ = 27 Milliards\n",
            "\n",
            "Capitalisation total du fond CAC 40 50/50 = 8222 Milliards\n",
            "\n",
            "Taux de solidarité (à déduire des pensions) = 0.56 %\n"
          ]
        }
      ],
      "source": [
        "ASPA_2023 = 594_000*495*12\n",
        "ASV_2023 = 117_000*440*12\n",
        "solidaritée_2023_milliards = (ASPA_2023 + ASV_2023) / 1_000_000_000\n",
        "print(f\"Montant des solidaritées retraites en 2023 environ = {int(solidaritée_2023_milliards)} Milliards\")\n",
        "\n",
        "nbr_retraites_2022 = 17_000_000\n",
        "capi_aproximative_milliards = nbr_retraites_2022 * retraite_actuelle / 1_000_000_000\n",
        "print(f\"Montant total versé aux retraites en 2023 environ = {int(capi_aproximative_milliards)} Milliards\")\n",
        "\n",
        "print()\n",
        "capi_total_cac_50_50 = cac_50_50_final * nbr_retraites_2022\n",
        "print(f\"Capitalisation total du fond CAC 40 50/50 = {int(capi_total_cac_50_50 / 1_000_000_000)} Milliards\")\n",
        "print()\n",
        "\n",
        "# Taux de solidarité nécessaire (automatique)\n",
        "taux_solidarité_dynamique = (solidaritée_2023_milliards * 1e9) / (cac_50_50_pension * 12 * nbr_retraites_2022)\n",
        "\n",
        "print(f\"Taux de solidarité (à déduire des pensions) = {round(taux_solidarité_dynamique*100,2)} %\")"
      ]
    },
    {
      "cell_type": "markdown",
      "metadata": {},
      "source": [
        "## 📌 Réévaluation des pensions mensuelles\n",
        "\n",
        "Nous recalculons désormais les pensions mensuelles en intégrant la contribution de solidarité estimée précédemment.\n",
        "\n",
        "🔹 Cette réévaluation permet de simuler un système de retraite par capitalisation **intégrant une dimension redistributive**, en prenant en compte le coût approximatif des prestations minimales (ASPA, ASV).\n",
        "\n",
        "Cela permet d'obtenir une estimation plus complète et plus réaliste des pensions nettes de solidarité, telles qu’elles pourraient être versées dans un modèle hybride."
      ]
    },
    {
      "cell_type": "code",
      "execution_count": 52,
      "metadata": {
        "colab": {
          "base_uri": "https://localhost:8080/"
        },
        "id": "VHmfW0o6qHZd",
        "outputId": "de443f67-f8ce-4ac9-887d-9579027c36d9"
      },
      "outputs": [
        {
          "name": "stdout",
          "output_type": "stream",
          "text": [
            "RESULTATS FINAUX :\n",
            "Pension mensuelle pour l'allocation CAC 40 / Wordl Bonds 50/50 (solidaritée déduite) : 3634€\n",
            "Pension mensuelle pour l'allocation CAC 40 / Wordl Bonds 75/20 (solidaritée déduite) : 4446€\n",
            "Pension mensuelle pour l'allocation S&P 500 / Wordl Bonds 50/50 (solidaritée déduite) : 5205€\n",
            "Pension mensuelle pour l'allocation S&P 500 / Wordl Bonds 75/75 (solidaritée déduite) : 7904€\n"
          ]
        }
      ],
      "source": [
        "# Calcul du montant des cotisations\n",
        "cac_50_50_solidaire = cac_50_50_pension - (cac_50_50_pension*taux_solidarité_dynamique)\n",
        "cac_75_25_solidaire = cac_75_25_pension - (cac_50_50_pension*taux_solidarité_dynamique)\n",
        "snp_50_50_solidaire = snp_50_50_pension - (cac_50_50_pension*taux_solidarité_dynamique)\n",
        "snp_75_25_solidaire = snp_75_25_pension - (cac_50_50_pension*taux_solidarité_dynamique)\n",
        "\n",
        "print(\"RESULTATS FINAUX :\")\n",
        "print(f\"Pension mensuelle pour l'allocation CAC 40 / Wordl Bonds 50/50 (solidaritée déduite) : {int(cac_50_50_solidaire)}€\")\n",
        "print(f\"Pension mensuelle pour l'allocation CAC 40 / Wordl Bonds 75/20 (solidaritée déduite) : {int(cac_75_25_solidaire)}€\")\n",
        "print(f\"Pension mensuelle pour l'allocation S&P 500 / Wordl Bonds 50/50 (solidaritée déduite) : {int(snp_50_50_solidaire)}€\")\n",
        "print(f\"Pension mensuelle pour l'allocation S&P 500 / Wordl Bonds 75/75 (solidaritée déduite) : {int(snp_75_25_solidaire)}€\")"
      ]
    },
    {
      "cell_type": "markdown",
      "metadata": {},
      "source": [
        "## 📌 Comparaison visuelle des pensions mensuelles\n",
        "\n",
        "Les graphiques suivants comparent les pensions générées par les différentes allocations de portefeuille avec la pension médiane actuelle issue du système par répartition.  \n",
        "La ligne rouge indique le niveau de référence du système actuel (1 626 €)."
      ]
    },
    {
      "cell_type": "code",
      "execution_count": 53,
      "metadata": {
        "colab": {
          "base_uri": "https://localhost:8080/",
          "height": 607
        },
        "id": "9SE_uabNduv8",
        "outputId": "14fa22d6-32be-47bd-ece8-b4e86f312180"
      },
      "outputs": [
        {
          "data": {
            "image/png": "[encoded data removed]",
            "text/plain": [
              "<Figure size 1000x600 with 1 Axes>"
            ]
          },
          "metadata": {},
          "output_type": "display_data"
        }
      ],
      "source": [
        "# Récupération des montants calculés\n",
        "pensions = [retraite_actuelle, cac_50_50_solidaire, cac_75_25_solidaire, snp_50_50_solidaire, snp_75_25_solidaire]\n",
        "allocations = ['Retraite actuelle', 'CAC40 50/50', 'CAC40 75/25', 'S&P500 50/50', 'S&P500 75/25']\n",
        "\n",
        "# Création du graphique\n",
        "plt.figure(figsize=(10,6))\n",
        "\n",
        "# Appliquer une couleur plus harmonieuse avec un gradient de bleu\n",
        "colors = plt.cm.Blues(np.linspace(0.5, 0.9, len(allocations)))  # Crée un gradient de bleu\n",
        "\n",
        "# Générer les barres\n",
        "bars = plt.bar(allocations, pensions, color=colors)\n",
        "\n",
        "# Ajouter les labels au-dessus des barres\n",
        "for bar in bars:\n",
        "    plt.text(bar.get_x() + bar.get_width() / 2, bar.get_height() + 50,  # Position du texte\n",
        "             f'{bar.get_height():.0f}', ha='center', va='bottom', fontsize=12)  # Affichage du montant\n",
        "\n",
        "# Ajouter la ligne de référence en pointillé rouge\n",
        "plt.axhline(y=retraite_actuelle, color='red', linestyle='--', linewidth=2)\n",
        "\n",
        "# Titre et labels\n",
        "plt.title(\"Comparaison des pensions mensuelles selon les allocations\")\n",
        "\n",
        "plt.ylabel(\"Pension mensuelle (€)\")\n",
        "plt.tight_layout()\n",
        "\n",
        "# Sauvegarde du graphique\n",
        "plt.savefig(\"charts/comparaison_pensions_1.png\", dpi=300, bbox_inches='tight')\n",
        "\n",
        "# Affichage du graphique\n",
        "plt.show()"
      ]
    },
    {
      "cell_type": "markdown",
      "metadata": {
        "id": "YM_egMBjuRKa"
      },
      "source": [
        "## 📌 Optimisation du taux de prélèvement\n",
        "\n",
        "Nous avons choisi d’appliquer un **taux de prélèvement annuel uniforme de 9 %**, correspondant au **taux sécurisé** calculé pour l’allocation la moins performante de notre simulation.  \n",
        "🔹 Ce taux est volontairement **prudent**, car il garantit que le capital accumulé reste suffisant pour couvrir **25 années de retraite**, en cohérence avec l’espérance de vie moyenne des retraités en France.\n",
        "\n",
        "💡 Pour affiner l’analyse, nous avons également déterminé des **taux de retrait optimaux spécifiques à chaque allocation**.  \n",
        "Ces taux tiennent compte de la performance réelle de chaque portefeuille et permettent de **maximiser les pensions** sans risque d’épuisement prématuré du capital.\n",
        "\n",
        "➡️ Dans les cas où l’allocation est plus dynamique (par exemple avec une forte exposition au **S&P500**), un taux de prélèvement supérieur serait viable, conduisant à des **pensions plus élevées** que celles présentées ici à titre conservateur.\n",
        "\n"
      ]
    },
    {
      "cell_type": "code",
      "execution_count": 54,
      "metadata": {
        "colab": {
          "base_uri": "https://localhost:8080/"
        },
        "id": "Mmro_FBRUV0g",
        "outputId": "59400a5c-4134-481c-edf1-15be2d02b8a1"
      },
      "outputs": [
        {
          "name": "stdout",
          "output_type": "stream",
          "text": [
            "RESULTATS optimisés :\n",
            "pension mensuelle pour l'allocation CAC 40 / World Bonds 75/20 optimisée : 4765€\n",
            "pension mensuelle pour l'allocation S&P 500 / World Bonds 50/50 optimisée : 6207€\n",
            "pension mensuelle pour l'allocation S&P 500 / World Bonds 75/75 optimisée : 10158€\n"
          ]
        }
      ],
      "source": [
        "# Calcul du montant des cotisations\n",
        "cac_50_50_pension_opti = (cac_50_50_final * cac40_50_50_swr / 12) - (cac_50_50_pension*taux_solidarité_dynamique)\n",
        "cac_75_25_pension_opti = (cac_75_25_final * cac40_75_25_swr / 12) - (cac_50_50_pension*taux_solidarité_dynamique)\n",
        "snp_50_50_pension_opti = (snp_50_50_final * snp500_50_50_swr / 12) - (cac_50_50_pension*taux_solidarité_dynamique)\n",
        "snp_75_25_pension_opti = (snp_75_25_final * snp500_75_25_swr / 12) - (cac_50_50_pension*taux_solidarité_dynamique)\n",
        "\n",
        "print(\"RESULTATS optimisés :\")\n",
        "print(f\"pension mensuelle pour l'allocation CAC 40 / World Bonds 75/20 optimisée : {int(cac_75_25_pension_opti)}€\")\n",
        "print(f\"pension mensuelle pour l'allocation S&P 500 / World Bonds 50/50 optimisée : {int(snp_50_50_pension_opti)}€\")\n",
        "print(f\"pension mensuelle pour l'allocation S&P 500 / World Bonds 75/75 optimisée : {int(snp_75_25_pension_opti)}€\")"
      ]
    },
    {
      "cell_type": "markdown",
      "metadata": {},
      "source": [
        "## 📌 Comparaison visuelle des pensions mensuelles – Version optimisée\n",
        "\n",
        "Les graphiques suivants comparent les pensions mensuelles simulées pour chaque allocation de portefeuille avec la pension moyenne actuelle issue du système par répartition (**1 626 € bruts**).  \n",
        "La ligne rouge représente ce niveau de référence.\n",
        "\n",
        "Contrairement à la première version, les pensions affichées ici sont calculées à partir d’un **taux de retrait spécifique à chaque portefeuille**, optimisé en fonction de sa performance historique.  \n",
        "Cela permet de refléter plus fidèlement le **potentiel réel** de chaque stratégie d’investissement dans un système de retraite par capitalisation."
      ]
    },
    {
      "cell_type": "code",
      "execution_count": 55,
      "metadata": {
        "colab": {
          "base_uri": "https://localhost:8080/",
          "height": 607
        },
        "id": "an459I4mvjn0",
        "outputId": "e20aa858-6360-4245-a275-42c84501ab07"
      },
      "outputs": [
        {
          "data": {
            "image/png": "[encoded data removed]",
            "text/plain": [
              "<Figure size 1000x600 with 1 Axes>"
            ]
          },
          "metadata": {},
          "output_type": "display_data"
        }
      ],
      "source": [
        "# Récupération des montants calculés\n",
        "pensions = [retraite_actuelle, cac_50_50_solidaire, cac_75_25_pension, snp_50_50_pension_opti, snp_75_25_pension_opti]\n",
        "allocations = ['Retraite actuelle', 'CAC40 50/50', 'CAC40 75/25', 'S&P500 50/50 opti', 'S&P500 75/25 opti']\n",
        "\n",
        "# Création du graphique\n",
        "plt.figure(figsize=(10,6))\n",
        "\n",
        "# Appliquer une couleur plus harmonieuse avec un gradient de bleu\n",
        "colors = plt.cm.Blues(np.linspace(0.5, 0.9, len(allocations)))  # Crée un gradient de bleu\n",
        "\n",
        "# Générer les barres\n",
        "bars = plt.bar(allocations, pensions, color=colors)\n",
        "\n",
        "# Ajouter les labels au-dessus des barres\n",
        "for bar in bars:\n",
        "    plt.text(bar.get_x() + bar.get_width() / 2, bar.get_height() + 50,  # Position du texte\n",
        "             f'{bar.get_height():.0f}', ha='center', va='bottom', fontsize=12)  # Affichage du montant\n",
        "\n",
        "# Ajouter la ligne de référence en pointillé rouge\n",
        "plt.axhline(y=retraite_actuelle, color='red', linestyle='--', linewidth=2)\n",
        "\n",
        "# Titre et labels\n",
        "plt.title(\"Comparaison des pensions mensuelles selon les allocations\")\n",
        "\n",
        "plt.ylabel(\"Pension mensuelle (€)\")\n",
        "plt.tight_layout()\n",
        "\n",
        "# Sauvegarde du graphique\n",
        "plt.savefig(\"charts/comparaison_pensions_2.png\", dpi=300, bbox_inches='tight')\n",
        "\n",
        "# Affichage du graphique\n",
        "plt.show()\n"
      ]
    },
    {
      "cell_type": "markdown",
      "metadata": {},
      "source": [
        "## 📌 Calcul des coefficients multiplicateurs\n",
        "\n",
        "Pour terminer, et afin d’illustrer l’écart significatif entre les différents scénarios, nous calculons les **coefficients multiplicateurs** des pensions issues de chaque allocation par rapport à la **pension moyenne brute actuelle** du système par répartition (1 626 €).\n",
        "\n",
        "🔹 Ces coefficients indiquent de combien la pension aurait été **multipliée** dans un système par capitalisation, selon l’allocation choisie.\n",
        "\n",
        "Cela permet de visualiser très simplement le **gain potentiel** offert par un modèle capitalisé sur le long terme."
      ]
    },
    {
      "cell_type": "code",
      "execution_count": 56,
      "metadata": {
        "colab": {
          "base_uri": "https://localhost:8080/"
        },
        "id": "rrIJMFVawRhU",
        "outputId": "d6daef40-a734-44e0-baa6-058cb2560451"
      },
      "outputs": [
        {
          "name": "stdout",
          "output_type": "stream",
          "text": [
            "Multiple CAC40 50/50 : --------- x2.25\n",
            "Multiple CAC40 75/25 : --------- x2.75\n",
            "Multiple CAC40 75/25 optimisé :  x2.93\n",
            "Multiple S&P500 50/50 : -------- x3.21\n",
            "Multiple S&P500 50/50 optimisé : x3.82\n",
            "Multiple S&P500 75/25 : -------- x4.87\n",
            "Multiple S&P500 75/25 optimisé : x6.25\n"
          ]
        }
      ],
      "source": [
        "# Calcul des multiples\n",
        "multiple_cac_50_50 = cac_50_50_pension / retraite_actuelle\n",
        "multiple_cac_75_25 = cac_75_25_pension / retraite_actuelle\n",
        "multiple_cac_75_25_opti = cac_75_25_pension_opti / retraite_actuelle\n",
        "multiple_snp_50_50 = snp_50_50_pension / retraite_actuelle\n",
        "multiple_snp_50_50_opti = snp_50_50_pension_opti / retraite_actuelle\n",
        "multiple_snp_75_25 = snp_75_25_pension / retraite_actuelle\n",
        "multiple_snp_75_25_opti = snp_75_25_pension_opti / retraite_actuelle\n",
        "\n",
        "# Affichage des résultats\n",
        "print(f\"Multiple CAC40 50/50 : --------- x{multiple_cac_50_50:.2f}\")\n",
        "print(f\"Multiple CAC40 75/25 : --------- x{multiple_cac_75_25:.2f}\")\n",
        "print(f\"Multiple CAC40 75/25 optimisé :  x{multiple_cac_75_25_opti:.2f}\")\n",
        "print(f\"Multiple S&P500 50/50 : -------- x{multiple_snp_50_50:.2f}\")\n",
        "print(f\"Multiple S&P500 50/50 optimisé : x{multiple_snp_50_50_opti:.2f}\")\n",
        "print(f\"Multiple S&P500 75/25 : -------- x{multiple_snp_75_25:.2f}\")\n",
        "print(f\"Multiple S&P500 75/25 optimisé : x{multiple_snp_75_25_opti:.2f}\")"
      ]
    },
    {
      "cell_type": "markdown",
      "metadata": {
        "id": "712fgHsv6EtR"
      },
      "source": [
        "## **📌 Présentation des résultats**\n",
        "Les résultats montrent que **toutes les allocations capitalisées surpassent largement le niveau des pensions actuelles**.  \n",
        "Cette étude démontre qu’un **système de capitalisation bien structuré** aurait pu offrir des retraites **nettement supérieures** à celles du système actuel par répartition.\n",
        "\n",
        "📌 **Observations clés** :\\\n",
        "✔️ **Le CAC40 seul offre déjà de meilleures pensions que le système actuel**, même sans effet de capitalisation massive.  \n",
        "✔️ **Les allocations exposées au S&P500 produisent des pensions jusqu’à 6 fois plus élevées**, confirmant l’intérêt d’un modèle de capitalisation performant.  \n",
        "✔️ **Même en intégrant un mécanisme de solidarité**, le système reste latgement plus soutenable qu’une répartition classique.\n",
        "\n",
        "\n",
        "💡 **Ces résultats permettent d’ouvrir la discussion sur une réforme possible du financement des retraites en France.**"
      ]
    },
    {
      "cell_type": "markdown",
      "metadata": {},
      "source": [
        "## 📌 Présentation des résultats\n",
        "\n",
        "Les résultats montrent que **toutes les allocations capitalisées surpassent largement le niveau des pensions actuelles**.  \n",
        "Cette étude démontre qu’un **système de capitalisation bien structuré** aurait pu offrir des retraites **nettement supérieures** à celles du système actuel par répartition.\n",
        "\n",
        "### 📌 Observations clés :\n",
        "✔️ **Le CAC40 seul offre déjà de meilleures pensions que le système actuel**, même sans bénéficier d’un effet de capitalisation massif.  \n",
        "✔️ **Les allocations exposées au S&P500 produisent des pensions jusqu’à 6 fois plus élevées**, confirmant l’intérêt d’un modèle performant à long terme.  \n",
        "✔️ **Même en intégrant un mécanisme de solidarité**, le système reste largement plus soutenable qu’une répartition classique.\n",
        "\n",
        "\n",
        "\n",
        "💡 Il est essentiel de souligner que cette étude se concentre principalement sur le **niveau des pensions obtenues**, mais **le véritable atout d’un système par capitalisation va bien au-delà**.\n",
        "\n",
        "### ✅ Un modèle structurellement viable\n",
        "\n",
        "Contrairement au système par répartition, où les pensions des retraités dépendent directement des cotisations des actifs en temps réel, un modèle capitalisé repose **exclusivement sur l’effort individuel d’épargne et de cotisation**.  \n",
        "Cela le rend **structurellement indépendant** :\n",
        "\n",
        "- **Pas de dépendance à la démographie** (rapport actifs/retraités),\n",
        "- **Pas de fragilité face au ralentissement économique ou à la baisse de la natalité**,\n",
        "- **Pas de nécessité d’ajustements permanents via des réformes impopulaires**.\n",
        "\n",
        "Chaque individu finance sa retraite en constituant **son propre capital**, ce qui rend le système à la fois **prévisible**, **équitable** et **pérenne**.\n",
        "\n",
        "---\n",
        "\n",
        "📌 **Ces résultats ouvrent la voie à une réflexion approfondie sur les fondements du financement des retraites en France**, et sur la possibilité d’introduire un **modèle hybride**, combinant **efficacité économique** et **solidarité ciblée**.\n",
        "\n",
        "---\n",
        "\n",
        "🗣️ **Ouvert aux remarques et discussions constructives**  \n",
        "Ce travail est une première base de réflexion et reste perfectible. Toute remarque, critique ou suggestion permettant d’enrichir le modèle ou d’ouvrir de nouvelles pistes d’analyse est la bienvenue."
      ]
    }
  ],
  "metadata": {
    "colab": {
      "provenance": []
    },
    "kernelspec": {
      "display_name": "base",
      "language": "python",
      "name": "python3"
    },
    "language_info": {
      "codemirror_mode": {
        "name": "ipython",
        "version": 3
      },
      "file_extension": ".py",
      "mimetype": "text/x-python",
      "name": "python",
      "nbconvert_exporter": "python",
      "pygments_lexer": "ipython3",
      "version": "3.12.4"
    }
  },
  "nbformat": 4,
  "nbformat_minor": 0
}
